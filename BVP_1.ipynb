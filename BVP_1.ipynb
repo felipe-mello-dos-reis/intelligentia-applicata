{
 "cells": [
  {
   "cell_type": "code",
   "execution_count": 1,
   "metadata": {},
   "outputs": [],
   "source": [
    "import autograd.numpy as np\n",
    "from autograd import grad, elementwise_grad\n",
    "import autograd.numpy.random as npr\n",
    "from autograd.misc.optimizers import adam\n",
    "\n",
    "def init_random_params(scale, layer_sizes, rs=npr.RandomState(0)):\n",
    "    \"\"\"Build a list of (weights, biases) tuples, one for each layer.\"\"\"\n",
    "    return [(rs.randn(insize, outsize) * scale,   # weight matrix\n",
    "             rs.randn(outsize) * scale)           # bias vector\n",
    "            for insize, outsize in zip(layer_sizes[:-1], layer_sizes[1:])]\n",
    "\n",
    "def swish(x):\n",
    "    \"https://arxiv.org/pdf/1710.05941.pdf\"\n",
    "    return x / (1.0 + np.exp(-x))\n",
    "\n",
    "def f(params, inputs):\n",
    "    \"Neural network functions\"\n",
    "    for W, b in params:\n",
    "        outputs = np.dot(inputs, W) + b\n",
    "        inputs = swish(outputs)    \n",
    "    return outputs\n",
    "\n"
   ]
  },
  {
   "cell_type": "code",
   "execution_count": 2,
   "metadata": {},
   "outputs": [],
   "source": [
    "# Initial guess of params:\n",
    "params = init_random_params(0.1, layer_sizes=[1, 8, 1])\n",
    "\n",
    "fp = elementwise_grad(f, 1)\n",
    "fpp = elementwise_grad(fp, 1)\n",
    "\n",
    "eta = np.linspace(0, np.pi/2).reshape((-1, 1))\n",
    "\n",
    "def objective(params, step):\n",
    "    # These should all be zero at the solution\n",
    "    # y'' + 4y = 0\n",
    "    # y(0) - 1 = 0\n",
    "    # y'(pi/2) - 2 = 0\n",
    "    zeq = fpp(params, eta) + 4 * f(params, eta)\n",
    "    bc0 = f(params, 0.0) - 1.0\n",
    "    bc1 = fp(params, np.pi/2.0) - 2.0\n",
    "    return np.mean(zeq**2) + bc0**2 + bc1**2\n",
    "\n",
    "def callback(params, step, g):\n",
    "    if step % 1000 == 0:\n",
    "        print(\"Iteration {0:3d} objective {1}\".format(step,\n",
    "                                                      objective(params, step)))\n",
    "\n",
    "\n",
    "\n"
   ]
  },
  {
   "cell_type": "code",
   "execution_count": 3,
   "metadata": {},
   "outputs": [
    {
     "name": "stdout",
     "output_type": "stream",
     "text": [
      "Iteration   0 objective [[5.31838001]]\n",
      "Iteration 1000 objective [[1.36100925]]\n",
      "Iteration 2000 objective [[0.09364378]]\n",
      "Iteration 3000 objective [[0.01026283]]\n",
      "Iteration 4000 objective [[0.00423851]]\n",
      "Iteration 5000 objective [[0.00105518]]\n",
      "Iteration 6000 objective [[0.00046191]]\n",
      "Iteration 7000 objective [[0.00042657]]\n",
      "Iteration 8000 objective [[0.00041535]]\n",
      "Iteration 9000 objective [[0.00040264]]\n"
     ]
    }
   ],
   "source": [
    "params = adam(grad(objective), params,\n",
    "              step_size=0.001, num_iters=10000, callback=callback)\n",
    "\n"
   ]
  },
  {
   "cell_type": "code",
   "execution_count": 4,
   "metadata": {},
   "outputs": [
    {
     "name": "stdout",
     "output_type": "stream",
     "text": [
      "f(0) = [[0.99983501]]\n",
      "fp(pi/2) = 1.9997854257654444\n"
     ]
    }
   ],
   "source": [
    "print('f(0) = {}'.format(f(params, 0.0)))\n",
    "print('fp(pi/2) = {}'.format(fp(params, np.pi/2.0)))"
   ]
  },
  {
   "cell_type": "code",
   "execution_count": 5,
   "metadata": {},
   "outputs": [
    {
     "data": {
      "image/png": "[encoded data removed]",
      "text/plain": [
       "<Figure size 432x288 with 1 Axes>"
      ]
     },
     "metadata": {
      "needs_background": "light"
     },
     "output_type": "display_data"
    }
   ],
   "source": [
    "def f_analytic(x):\n",
    "    f = np.cos(2*x) - np.sin(2*x)\n",
    "    return f\n",
    "\n",
    "import matplotlib.pyplot as plt\n",
    "plt.plot(eta, f(params, eta), label='f_NN')\n",
    "plt.plot(eta, f_analytic(eta), label='f_analytic')\n",
    "plt.xlabel('$\\eta$')\n",
    "plt.ylabel('$f(\\eta)$')\n",
    "plt.legend(['f_NN', 'f_analytic'])\n",
    "plt.xlim([0, np.pi/2])\n",
    "plt.ylim(min(np.min(f(params, eta)), np.min(f_analytic(eta)))*1.1, max(np.max(f(params, eta)), np.max(f_analytic(eta)))*1.1)\n",
    "plt.show()"
   ]
  },
  {
   "cell_type": "code",
   "execution_count": 12,
   "metadata": {},
   "outputs": [
    {
     "name": "stdout",
     "output_type": "stream",
     "text": [
      "<class 'numpy.ndarray'>\n",
      "<class 'numpy.float64'>\n"
     ]
    }
   ],
   "source": [
    "print(type((f(params, 0.5))))\n",
    "print(type(f_analytic(0.5)))"
   ]
  },
  {
   "cell_type": "code",
   "execution_count": null,
   "metadata": {},
   "outputs": [],
   "source": []
  }
 ],
 "metadata": {
  "kernelspec": {
   "display_name": "Python 3",
   "language": "python",
   "name": "python3"
  },
  "language_info": {
   "codemirror_mode": {
    "name": "ipython",
    "version": 3
   },
   "file_extension": ".py",
   "mimetype": "text/x-python",
   "name": "python",
   "nbconvert_exporter": "python",
   "pygments_lexer": "ipython3",
   "version": "3.10.12"
  }
 },
 "nbformat": 4,
 "nbformat_minor": 2
}
