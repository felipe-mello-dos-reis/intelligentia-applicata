{
 "cells": [
  {
   "cell_type": "code",
   "execution_count": 34,
   "metadata": {},
   "outputs": [],
   "source": [
    "# Import of needed packages\n",
    "import autograd.numpy as np\n",
    "from autograd import grad, elementwise_grad\n",
    "import autograd.numpy.random as npr\n",
    "from autograd.misc.optimizers import adam\n",
    "\n",
    "def init_random_params(scale, layer_sizes, rs=npr.RandomState(0)):\n",
    "    \"\"\"\n",
    "    Initialize the weights and biases for a neural network with a given architecture and scale.\n",
    "\n",
    "    Parameters:\n",
    "    scale (float): A scalar value that determines the scale of the random parameters.\n",
    "    layer_sizes (list of integers): A list of integers representing the size of each layer in the neural network.\n",
    "    rs (numpy.random.RandomState): An optional random state object (default: numpy.random.RandomState(0)).\n",
    "\n",
    "    Returns:\n",
    "    list of tuples: A list of tuples, where each tuple contains a weight matrix and a bias vector for a single layer in the neural network.\n",
    "    \"\"\"\n",
    "    # Build a list of (weights, biases) tuples, one for each layer\n",
    "    return [(rs.randn(insize, outsize) * scale,   # weight matrix\n",
    "             rs.randn(outsize) * scale)           # bias vector\n",
    "            for insize, outsize in zip(layer_sizes[:-1], layer_sizes[1:])]           # zip function  is used to pair up elements into tuples\n",
    "            # layer_sizes[:-1] expression returns a new list that contains all the elements of layer_sizes except for the last one\n",
    "            # layer_sizes[1:] expression returns a new list that contains all the elements of layer_sizes starting from the second one\n",
    "            # Here we are using zip function to pair up the size of each layer in the neural network with the size of the next layer\n",
    "            \n",
    "            ## The zip function then pairs up the corresponding elements of these two lists into tuples. For example, if layer_sizes is [10, 5, 2], then layer_sizes[:-1] is [10, 5] and layer_sizes[1:] is [5, 2]. The zip function would then pair up the first element of layer_sizes[:-1] (which is 10) with the first element of layer_sizes[1:] (which is 5), and so on.\n",
    "            \n",
    "def activation(x):\n",
    "    \"\"\"\n",
    "    Activation function used in the neural network.\n",
    "\n",
    "    This function implements the Swish activation function, which is defined as x / (1.0 + np.exp(-x)).\n",
    "    The Swish activation function was introduced in the paper \"Searching for Activation Functions\"\n",
    "    by Ramachandran et al. (2017), which can be found at <https://arxiv.org/pdf/1710.05941.pdf>.\n",
    "\n",
    "    Parameters:\n",
    "    x (numpy array): The input data to the activation function, with arbitrary shape.\n",
    "\n",
    "    Returns:\n",
    "    numpy array: The output of the activation function, with the same shape as the input data.\n",
    "    \"\"\"\n",
    "    # Swish activation function\n",
    "    return x / (1.0 + np.exp(-x))\n",
    "\n",
    "def f_NN(params, inputs):\n",
    "    \"\"\"\n",
    "    Neural network functions\n",
    "\n",
    "    Parameters:\n",
    "    params (list of tuples): A list of tuples, where each tuple contains a weight matrix and a bias vector for a single layer in the neural network.\n",
    "    inputs (numpy array): The input data to the neural network, with shape (num_samples, num_features).\n",
    "\n",
    "    Returns:\n",
    "    numpy array: The output of the neural network, with shape (num_samples, num_outputs).\n",
    "    \"\"\"\n",
    "    # Iterate over the layers in the neural network\n",
    "    for W, b in params:\n",
    "        # Compute the weighted sum of the inputs and the weights, and add the bias\n",
    "        outputs = np.dot(inputs, W) + b\n",
    "        # Apply the activation function to the outputs\n",
    "        inputs = activation(outputs)\n",
    "    # Return the final outputs of the neural network\n",
    "    return outputs\n",
    "\n"
   ]
  },
  {
   "cell_type": "code",
   "execution_count": 35,
   "metadata": {},
   "outputs": [],
   "source": [
    "# Initialize the parameters of the neural network\n",
    "params = init_random_params(0.1, layer_sizes=[1, 8, 1])\n",
    "\n",
    "# Compute the gradient of the objective function with respect to the parameters\n",
    "f_NN_p = elementwise_grad(f_NN, 1)\n",
    "f_NN_pp = elementwise_grad(f_NN_p, 1)\n",
    "\n",
    "# Define the input data for the neural network\n",
    "eta = np.linspace(0, np.pi/2).reshape((-1, 1))\n",
    "\n",
    "def objective(params, step):\n",
    "    \"\"\"\n",
    "    Objective function for the neural network.\n",
    "\n",
    "    This function computes the objective function for the neural network, which is defined as the mean squared error\n",
    "    of the constraint equation and the initial condition.\n",
    "\n",
    "    Parameters:\n",
    "    params (list of tuples): A list of tuples, where each tuple contains a weight matrix and a bias vector for a single layer in the neural network.\n",
    "    step (integer): The current iteration number.\n",
    "\n",
    "    Returns:\n",
    "    float: The value of the objective function.\n",
    "    \"\"\"\n",
    "    # These should all be zero at the solution\n",
    "    # y'² + y² - 1 = 0\n",
    "    # y(0) = 0\n",
    "    zeq = f_NN_p(params, eta)**2 + f_NN(params, eta)**2 -1\n",
    "    ic0 = f_NN(params, 0.0)\n",
    "    return np.mean(zeq**2) + ic0**2 \n",
    "\n",
    "def callback(params, step, g):\n",
    "    \"\"\"\n",
    "    Callback function for the optimization algorithm.\n",
    "\n",
    "    This function is called at each iteration of the optimization algorithm, and prints the current iteration number\n",
    "    and the value of the objective function.\n",
    "\n",
    "    Parameters:\n",
    "    params (list of tuples): A list of tuples, where each tuple contains a weight matrix and a bias vector for a single layer in the neural network.\n",
    "    step (integer): The current iteration number.\n",
    "    g (numpy array): The gradient of the objective function with respect to the parameters.\n",
    "\n",
    "    Returns:\n",
    "    None\n",
    "    \"\"\"\n",
    "    if step % 1000 == 0:\n",
    "        print(\"Iteration {0:3d} objective {1}\".format(step,\n",
    "                                                      objective(params, step)))\n",
    "    \n",
    "    # Check if the objective value is less than 1e-4\n",
    "    if objective(params, step) < 1e-5:\n",
    "        # If it is, stop the optimization algorithm by raising a StopIteration exception\n",
    "        raise StopIteration\n",
    "    \n"
   ]
  },
  {
   "cell_type": "code",
   "execution_count": 36,
   "metadata": {},
   "outputs": [
    {
     "name": "stdout",
     "output_type": "stream",
     "text": [
      "Iteration   0 objective [[0.9701429]]\n",
      "Iteration 1000 objective [[0.01175738]]\n",
      "Iteration 2000 objective [[0.00806175]]\n",
      "Iteration 3000 objective [[0.0051401]]\n",
      "Iteration 4000 objective [[0.00207562]]\n",
      "Iteration 5000 objective [[0.00025584]]\n",
      "chega\n",
      "Optimization stopped because the objective value is less than 1e-4.\n"
     ]
    },
    {
     "data": {
      "text/plain": [
       "\"\\n    It's basically RMSprop with momentum and some correction terms.\\n\\n    Parameters:\\n    grad (function): A function that computes the gradient of the objective function with respect to the parameters.\\n    step_size (float): The step size for the optimization algorithm (default: 0.001).\\n    num_iters (integer): The number of iterations (default: 100).\\n    callback (function): A function that is called at each iteration of the optimization algorithm (default: None).\\n\\n    Returns:\\n    list of tuples: The optimized parameters of the neural network.\\n\""
      ]
     },
     "execution_count": 36,
     "metadata": {},
     "output_type": "execute_result"
    }
   ],
   "source": [
    "try:\n",
    "    params = adam(grad(objective), params,\n",
    "              step_size=0.001, num_iters=10000, callback=callback)\n",
    "except StopIteration:\n",
    "    print(\"Optimization stopped because the objective value is less than 1e-4.\")\n",
    "\n",
    "\"\"\"\n",
    "It's basically RMSprop with momentum and some correction terms.\n",
    "Parameters:\n",
    "grad (function): A function that computes the gradient of the objective function with respect to the parameters.\n",
    "step_size (float): The step size for the optimization algorithm (default: 0.001).\n",
    "num_iters (integer): The number of iterations (default: 100).\n",
    "callback (function): A function that is called at each iteration of the optimization algorithm (default: None).\n",
    "Returns:\n",
    "list of tuples: The optimized parameters of the neural network.\n",
    "\"\"\"\n"
   ]
  },
  {
   "cell_type": "code",
   "execution_count": 37,
   "metadata": {},
   "outputs": [
    {
     "name": "stdout",
     "output_type": "stream",
     "text": [
      "f(0) = [[0.21036253]]\n"
     ]
    }
   ],
   "source": [
    "# Verifying if it has met the IC\n",
    "print('f(0) = {}'.format(f_NN(params, 0.0)))\n"
   ]
  },
  {
   "cell_type": "code",
   "execution_count": 38,
   "metadata": {},
   "outputs": [
    {
     "data": {
      "image/png": "[encoded data removed]",
      "text/plain": [
       "<Figure size 432x288 with 1 Axes>"
      ]
     },
     "metadata": {
      "needs_background": "light"
     },
     "output_type": "display_data"
    }
   ],
   "source": [
    "def f_analytic(x):\n",
    "    f = np.sin(x)\n",
    "    return f\n",
    "\n",
    "import matplotlib.pyplot as plt\n",
    "plt.plot(eta, f_NN(params, eta), label='f_NN')\n",
    "plt.plot(eta, f_analytic(eta), label='f_analytic')\n",
    "plt.xlabel('$\\eta$')\n",
    "plt.ylabel('$f(\\eta)$')\n",
    "plt.legend(['f_NN', 'f_analytic'])\n",
    "plt.xlim([0, np.pi/2])\n",
    "plt.ylim(min(np.min(f_NN(params, eta)), np.min(f_analytic(eta)))*1.1, max(np.max(f_NN(params, eta)), np.max(f_analytic(eta)))*1.1)\n",
    "plt.show()"
   ]
  },
  {
   "cell_type": "code",
   "execution_count": 39,
   "metadata": {},
   "outputs": [
    {
     "name": "stdout",
     "output_type": "stream",
     "text": [
      "<class 'numpy.ndarray'>\n",
      "<class 'numpy.float64'>\n"
     ]
    }
   ],
   "source": [
    "print(type((f(params, 0.5))))\n",
    "print(type(f_analytic(0.5)))"
   ]
  },
  {
   "cell_type": "code",
   "execution_count": null,
   "metadata": {},
   "outputs": [],
   "source": []
  }
 ],
 "metadata": {
  "kernelspec": {
   "display_name": "Python 3",
   "language": "python",
   "name": "python3"
  },
  "language_info": {
   "codemirror_mode": {
    "name": "ipython",
    "version": 3
   },
   "file_extension": ".py",
   "mimetype": "text/x-python",
   "name": "python",
   "nbconvert_exporter": "python",
   "pygments_lexer": "ipython3",
   "version": "3.10.12"
  }
 },
 "nbformat": 4,
 "nbformat_minor": 2
}
